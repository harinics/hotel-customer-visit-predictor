{
 "cells": [
  {
   "cell_type": "code",
   "execution_count": 3,
   "id": "d9cfe436",
   "metadata": {},
   "outputs": [
    {
     "name": "stdout",
     "output_type": "stream",
     "text": [
      "MAE: 8.3653200448667\n",
      "R² Score: 0.5254546285364763\n",
      "Updated dataset with predictions saved successfully.\n",
      "  customername lastvisitdate predicted_next_visitdate  predicted_gap\n",
      "0         cus1    2025-01-24               2025-02-27             34\n",
      "1         cus2    2025-04-15               2025-05-17             32\n",
      "2         cus3    2025-04-17               2025-06-06             50\n",
      "3         cus4    2025-04-14               2025-05-14             30\n",
      "4         cus5    2025-05-14               2025-06-04             21\n"
     ]
    }
   ],
   "source": [
    "import pandas as pd\n",
    "from catboost import CatBoostRegressor\n",
    "from sklearn.model_selection import train_test_split\n",
    "from sklearn.metrics import mean_absolute_error, r2_score\n",
    "from datetime import timedelta\n",
    "\n",
    "df = pd.read_csv(\"C:\\\\Users\\\\Harini CS\\\\Downloads\\\\hotel analysis\\\\hotel_customer_visits_1000.csv\")\n",
    "\n",
    "df['lastvisitdate'] = pd.to_datetime(df['lastvisitdate'], format=\"%d-%m-%Y\")\n",
    "df['previousvisitdate'] = pd.to_datetime(df['previousvisitdate'], format=\"%d-%m-%Y\")\n",
    "\n",
    "df['visit_gap'] = (df['lastvisitdate'] - df['previousvisitdate']).dt.days\n",
    "\n",
    "features = [\n",
    "    'totalvisityear', 'lastvisitmonth', 'lastvisitweekday',\n",
    "    'previousvisitmonth', 'previousvisitweekday', 'visits_in_month'\n",
    "]\n",
    "X = df[features]\n",
    "y = df['visit_gap']\n",
    "\n",
    "X_train, X_test, y_train, y_test = train_test_split(X, y, test_size=0.2, random_state=42)\n",
    "\n",
    "model = CatBoostRegressor(verbose=0)\n",
    "model.fit(X_train, y_train)\n",
    "\n",
    "y_pred = model.predict(X_test)\n",
    "\n",
    "print(\"MAE:\", mean_absolute_error(y_test, y_pred))\n",
    "print(\"R² Score:\", r2_score(y_test, y_pred))\n",
    "\n",
    "df['predicted_gap'] = model.predict(X).round().astype(int)\n",
    "df['predicted_next_visitdate'] = df['lastvisitdate'] + pd.to_timedelta(df['predicted_gap'], unit='d')\n",
    "\n",
    "df.to_csv(\"C:\\\\Users\\\\Harini CS\\\\Downloads\\\\hotel analysis\\\\hotel_customer_visits_with_predictions.csv\", index=False)\n",
    "print(\"Updated dataset with predictions saved successfully.\")\n",
    "\n",
    "print(df[['customername', 'lastvisitdate', 'predicted_next_visitdate', 'predicted_gap']].head())\n"
   ]
  },
  {
   "cell_type": "code",
   "execution_count": 3,
   "id": "7cc20991",
   "metadata": {},
   "outputs": [
    {
     "name": "stdout",
     "output_type": "stream",
     "text": [
      "Number of customers predicted to visit in June 2025: 167\n"
     ]
    }
   ],
   "source": [
    "month = 6      # June\n",
    "year = 2025\n",
    "\n",
    "june_visits = df[\n",
    "    (df['predicted_next_visitdate'].dt.month == month) &\n",
    "    (df['predicted_next_visitdate'].dt.year == year)\n",
    "]\n",
    "\n",
    "print(f\"Number of customers predicted to visit in June {year}: {len(june_visits)}\")\n"
   ]
  },
  {
   "cell_type": "code",
   "execution_count": 4,
   "id": "ed62198d",
   "metadata": {},
   "outputs": [
    {
     "data": {
      "text/plain": [
       "['catboost_model.pkl']"
      ]
     },
     "execution_count": 4,
     "metadata": {},
     "output_type": "execute_result"
    }
   ],
   "source": [
    "import joblib\n",
    "joblib.dump(model, \"catboost_model.pkl\")\n"
   ]
  },
  {
   "cell_type": "code",
   "execution_count": 4,
   "id": "d459f048",
   "metadata": {},
   "outputs": [
    {
     "name": "stdout",
     "output_type": "stream",
     "text": [
      "📂 Running from directory: c:\\Users\\Harini CS\\Downloads\n"
     ]
    }
   ],
   "source": [
    "import os\n",
    "print(\"📂 Running from directory:\", os.getcwd())"
   ]
  }
 ],
 "metadata": {
  "kernelspec": {
   "display_name": "Python 3",
   "language": "python",
   "name": "python3"
  },
  "language_info": {
   "codemirror_mode": {
    "name": "ipython",
    "version": 3
   },
   "file_extension": ".py",
   "mimetype": "text/x-python",
   "name": "python",
   "nbconvert_exporter": "python",
   "pygments_lexer": "ipython3",
   "version": "3.12.2"
  }
 },
 "nbformat": 4,
 "nbformat_minor": 5
}
